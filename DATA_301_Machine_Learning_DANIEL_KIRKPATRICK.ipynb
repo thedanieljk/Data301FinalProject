{
  "nbformat": 4,
  "nbformat_minor": 0,
  "metadata": {
    "colab": {
      "name": "DATA 301 : Machine Learning - DANIEL KIRKPATRICK.ipynb",
      "provenance": [],
      "collapsed_sections": []
    },
    "kernelspec": {
      "name": "python3",
      "display_name": "Python 3"
    }
  },
  "cells": [
    {
      "cell_type": "code",
      "metadata": {
        "id": "ddSKiqrlCa6d",
        "colab_type": "code",
        "colab": {}
      },
      "source": [
        "import pandas as pd\n",
        "from sklearn.preprocessing import StandardScaler,MinMaxScaler,RobustScaler,MaxAbsScaler,Normalizer\n",
        "from sklearn.preprocessing import OneHotEncoder\n",
        "from sklearn.neighbors import KNeighborsRegressor\n",
        "from sklearn.pipeline import make_pipeline\n",
        "from sklearn.model_selection import cross_val_score\n",
        "from sklearn.feature_extraction.text import TfidfTransformer\n",
        "from sklearn.compose import make_column_transformer\n",
        "from sklearn.feature_extraction.text import TfidfVectorizer\n",
        "from sklearn.linear_model import LinearRegression\n",
        "from sklearn.ensemble import StackingRegressor"
      ],
      "execution_count": 0,
      "outputs": []
    },
    {
      "cell_type": "code",
      "metadata": {
        "id": "JKq9hj-lCA6v",
        "colab_type": "code",
        "outputId": "a0e9f269-dc27-4d06-8082-b3b1abc11071",
        "colab": {
          "base_uri": "https://localhost:8080/",
          "height": 419
        }
      },
      "source": [
        "df_vg = pd.read_csv(\"https://raw.githubusercontent.com/thedanieljk/Data301FinalProject/master/df_vg_final.csv\")\n",
        "df_vg = df_vg.iloc[:539] #only 539 have recorded sales (over 10,000)\n",
        "df_vg"
      ],
      "execution_count": 0,
      "outputs": [
        {
          "output_type": "execute_result",
          "data": {
            "text/html": [
              "<div>\n",
              "<style scoped>\n",
              "    .dataframe tbody tr th:only-of-type {\n",
              "        vertical-align: middle;\n",
              "    }\n",
              "\n",
              "    .dataframe tbody tr th {\n",
              "        vertical-align: top;\n",
              "    }\n",
              "\n",
              "    .dataframe thead th {\n",
              "        text-align: right;\n",
              "    }\n",
              "</style>\n",
              "<table border=\"1\" class=\"dataframe\">\n",
              "  <thead>\n",
              "    <tr style=\"text-align: right;\">\n",
              "      <th></th>\n",
              "      <th>Rank</th>\n",
              "      <th>Name</th>\n",
              "      <th>Year</th>\n",
              "      <th>Genre</th>\n",
              "      <th>Publisher</th>\n",
              "      <th>Developer</th>\n",
              "      <th>Critic_Score</th>\n",
              "      <th>User_Score</th>\n",
              "      <th>Global_Sales</th>\n",
              "    </tr>\n",
              "  </thead>\n",
              "  <tbody>\n",
              "    <tr>\n",
              "      <th>0</th>\n",
              "      <td>1</td>\n",
              "      <td>Grand Theft Auto V</td>\n",
              "      <td>2014.0</td>\n",
              "      <td>Action</td>\n",
              "      <td>Rockstar Games</td>\n",
              "      <td>Rockstar North</td>\n",
              "      <td>9.0</td>\n",
              "      <td>9.0</td>\n",
              "      <td>8.72</td>\n",
              "    </tr>\n",
              "    <tr>\n",
              "      <th>1</th>\n",
              "      <td>2</td>\n",
              "      <td>Call of Duty: Black Ops 3</td>\n",
              "      <td>2015.0</td>\n",
              "      <td>Shooter</td>\n",
              "      <td>Activision</td>\n",
              "      <td>Treyarch</td>\n",
              "      <td>NaN</td>\n",
              "      <td>NaN</td>\n",
              "      <td>7.37</td>\n",
              "    </tr>\n",
              "    <tr>\n",
              "      <th>2</th>\n",
              "      <td>3</td>\n",
              "      <td>Call of Duty: WWII</td>\n",
              "      <td>2017.0</td>\n",
              "      <td>Shooter</td>\n",
              "      <td>Activision</td>\n",
              "      <td>Sledgehammer Games</td>\n",
              "      <td>NaN</td>\n",
              "      <td>NaN</td>\n",
              "      <td>6.23</td>\n",
              "    </tr>\n",
              "    <tr>\n",
              "      <th>3</th>\n",
              "      <td>4</td>\n",
              "      <td>Red Dead Redemption 2</td>\n",
              "      <td>2018.0</td>\n",
              "      <td>Action-Adventure</td>\n",
              "      <td>Rockstar Games</td>\n",
              "      <td>Rockstar Games</td>\n",
              "      <td>NaN</td>\n",
              "      <td>NaN</td>\n",
              "      <td>5.77</td>\n",
              "    </tr>\n",
              "    <tr>\n",
              "      <th>4</th>\n",
              "      <td>5</td>\n",
              "      <td>Minecraft</td>\n",
              "      <td>2014.0</td>\n",
              "      <td>Misc</td>\n",
              "      <td>Microsoft Studios</td>\n",
              "      <td>Mojang</td>\n",
              "      <td>NaN</td>\n",
              "      <td>NaN</td>\n",
              "      <td>5.43</td>\n",
              "    </tr>\n",
              "    <tr>\n",
              "      <th>...</th>\n",
              "      <td>...</td>\n",
              "      <td>...</td>\n",
              "      <td>...</td>\n",
              "      <td>...</td>\n",
              "      <td>...</td>\n",
              "      <td>...</td>\n",
              "      <td>...</td>\n",
              "      <td>...</td>\n",
              "      <td>...</td>\n",
              "    </tr>\n",
              "    <tr>\n",
              "      <th>534</th>\n",
              "      <td>535</td>\n",
              "      <td>V-Rally 4</td>\n",
              "      <td>2018.0</td>\n",
              "      <td>Racing</td>\n",
              "      <td>Bigben Interactive</td>\n",
              "      <td>Kylotonn</td>\n",
              "      <td>NaN</td>\n",
              "      <td>NaN</td>\n",
              "      <td>0.01</td>\n",
              "    </tr>\n",
              "    <tr>\n",
              "      <th>535</th>\n",
              "      <td>536</td>\n",
              "      <td>Jagged Alliance: Rage!</td>\n",
              "      <td>2018.0</td>\n",
              "      <td>Strategy</td>\n",
              "      <td>THQ Nordic</td>\n",
              "      <td>Cliffhanger Productions</td>\n",
              "      <td>NaN</td>\n",
              "      <td>NaN</td>\n",
              "      <td>0.01</td>\n",
              "    </tr>\n",
              "    <tr>\n",
              "      <th>536</th>\n",
              "      <td>537</td>\n",
              "      <td>Ziggurat</td>\n",
              "      <td>2015.0</td>\n",
              "      <td>Shooter</td>\n",
              "      <td>Milkstone Studios</td>\n",
              "      <td>Milkstone Studios</td>\n",
              "      <td>NaN</td>\n",
              "      <td>NaN</td>\n",
              "      <td>0.01</td>\n",
              "    </tr>\n",
              "    <tr>\n",
              "      <th>537</th>\n",
              "      <td>538</td>\n",
              "      <td>ATV Renegades</td>\n",
              "      <td>2017.0</td>\n",
              "      <td>Racing</td>\n",
              "      <td>Nighthawk Interactive</td>\n",
              "      <td>Nighthawk Interactive</td>\n",
              "      <td>NaN</td>\n",
              "      <td>NaN</td>\n",
              "      <td>0.01</td>\n",
              "    </tr>\n",
              "    <tr>\n",
              "      <th>538</th>\n",
              "      <td>539</td>\n",
              "      <td>This Is The Police</td>\n",
              "      <td>2017.0</td>\n",
              "      <td>Simulation</td>\n",
              "      <td>THQ Nordic</td>\n",
              "      <td>Weappy Studio</td>\n",
              "      <td>NaN</td>\n",
              "      <td>NaN</td>\n",
              "      <td>0.01</td>\n",
              "    </tr>\n",
              "  </tbody>\n",
              "</table>\n",
              "<p>539 rows × 9 columns</p>\n",
              "</div>"
            ],
            "text/plain": [
              "     Rank                       Name  ...  User_Score Global_Sales\n",
              "0       1         Grand Theft Auto V  ...         9.0         8.72\n",
              "1       2  Call of Duty: Black Ops 3  ...         NaN         7.37\n",
              "2       3         Call of Duty: WWII  ...         NaN         6.23\n",
              "3       4      Red Dead Redemption 2  ...         NaN         5.77\n",
              "4       5                  Minecraft  ...         NaN         5.43\n",
              "..    ...                        ...  ...         ...          ...\n",
              "534   535                  V-Rally 4  ...         NaN         0.01\n",
              "535   536     Jagged Alliance: Rage!  ...         NaN         0.01\n",
              "536   537                   Ziggurat  ...         NaN         0.01\n",
              "537   538              ATV Renegades  ...         NaN         0.01\n",
              "538   539         This Is The Police  ...         NaN         0.01\n",
              "\n",
              "[539 rows x 9 columns]"
            ]
          },
          "metadata": {
            "tags": []
          },
          "execution_count": 2
        }
      ]
    },
    {
      "cell_type": "code",
      "metadata": {
        "id": "g7WSyx2-CoVd",
        "colab_type": "code",
        "outputId": "1657db4b-b910-4bc4-b840-f48669065d65",
        "colab": {
          "base_uri": "https://localhost:8080/",
          "height": 85
        }
      },
      "source": [
        "def get_cv_err_categorical(features):\n",
        "  ct = make_column_transformer(\n",
        "      (OneHotEncoder(handle_unknown=\"ignore\"), features),\n",
        "      remainder=\"passthrough\"\n",
        "  )\n",
        "\n",
        "  pipeline = make_pipeline(\n",
        "      ct,\n",
        "      KNeighborsRegressor(n_neighbors=3)\n",
        "  )\n",
        "  cv_errs = -cross_val_score(pipeline,\n",
        "                             X=df_vg[features],\n",
        "                             y=df_vg[\"Global_Sales\"],\n",
        "                             scoring=\"neg_mean_squared_error\",cv=2)\n",
        "  return cv_errs.mean()\n",
        "\n",
        "\n",
        "\n",
        "errs = pd.Series()\n",
        "for features in [[\"Genre\"],[\"Publisher\"],[\"Developer\"]]:\n",
        "  errs[str(features)] = get_cv_err_categorical(features)\n",
        "errs"
      ],
      "execution_count": 0,
      "outputs": [
        {
          "output_type": "execute_result",
          "data": {
            "text/plain": [
              "['Genre']         6.772372\n",
              "['Publisher']    15.706889\n",
              "['Developer']    22.778455\n",
              "dtype: float64"
            ]
          },
          "metadata": {
            "tags": []
          },
          "execution_count": 3
        }
      ]
    },
    {
      "cell_type": "markdown",
      "metadata": {
        "id": "-mgZOiArdUyw",
        "colab_type": "text"
      },
      "source": [
        "I began with seeing which of the categorical was the best estimate of Global Sales. Genre won with an MSE of 8.95. Publisher came 2nd with an MSE of 12.93. Developer was in a distant last with an MSE of 24.48. (k=3)"
      ]
    },
    {
      "cell_type": "code",
      "metadata": {
        "id": "xk6XUp6Mdupa",
        "colab_type": "code",
        "outputId": "2190381f-7579-4ada-9ff8-32d09565ac4b",
        "colab": {
          "base_uri": "https://localhost:8080/",
          "height": 102
        }
      },
      "source": [
        "def get_cv_err(features):\n",
        "  ct = make_column_transformer(\n",
        "      (OneHotEncoder(handle_unknown=\"ignore\"), features),\n",
        "      remainder=\"passthrough\"\n",
        "  )\n",
        "\n",
        "  pipeline = make_pipeline(\n",
        "      ct,\n",
        "      KNeighborsRegressor(n_neighbors=3)\n",
        "  )\n",
        "  cv_errs = -cross_val_score(pipeline,\n",
        "                             X=df_vg[features],\n",
        "                             y=df_vg[\"Global_Sales\"],\n",
        "                             scoring=\"neg_mean_squared_error\",cv=4)\n",
        "  return cv_errs.mean()\n",
        "\n",
        "\n",
        "\n",
        "errs = pd.Series()\n",
        "for features in [[\"Genre\",\"Publisher\"],[\"Genre\",\"Developer\"],[\"Publisher\",\"Developer\"],[\"Genre\",\"Publisher\",\"Developer\"]]:\n",
        "  errs[str(features)] = get_cv_err(features)\n",
        "errs"
      ],
      "execution_count": 0,
      "outputs": [
        {
          "output_type": "execute_result",
          "data": {
            "text/plain": [
              "['Genre', 'Publisher']                  6.595095\n",
              "['Genre', 'Developer']                  6.791547\n",
              "['Publisher', 'Developer']             10.153461\n",
              "['Genre', 'Publisher', 'Developer']     5.464975\n",
              "dtype: float64"
            ]
          },
          "metadata": {
            "tags": []
          },
          "execution_count": 4
        }
      ]
    },
    {
      "cell_type": "markdown",
      "metadata": {
        "id": "KVccqbnDd6x7",
        "colab_type": "text"
      },
      "source": [
        "Tried some combinations of categorical variables. For k=3, using all categorical variables (genre, publisher, developer) gave me the lowest mse of 5.46 by a significant amount."
      ]
    },
    {
      "cell_type": "code",
      "metadata": {
        "id": "-JzXFrh8jWuE",
        "colab_type": "code",
        "outputId": "9441aa4f-8da8-44f6-88a5-786dd150a4e1",
        "colab": {
          "base_uri": "https://localhost:8080/",
          "height": 282
        }
      },
      "source": [
        "def get_cv_err_k(k):\n",
        "  ct = make_column_transformer(\n",
        "      (OneHotEncoder(handle_unknown=\"ignore\"), [\"Genre\",\"Publisher\",\"Developer\"]),\n",
        "      remainder=\"passthrough\"\n",
        "  )\n",
        "\n",
        "  pipeline = make_pipeline(\n",
        "      ct,\n",
        "      KNeighborsRegressor(n_neighbors=k)\n",
        "  )\n",
        "  cv_errs = -cross_val_score(pipeline,\n",
        "                             X=df_vg[[\"Genre\",\"Publisher\",\"Developer\"]],\n",
        "                             y=df_vg[\"Global_Sales\"],\n",
        "                             scoring=\"neg_mean_squared_error\",cv=4)\n",
        "  return cv_errs.mean()\n",
        "\n",
        "\n",
        "\n",
        "errs = pd.Series()\n",
        "for k in range(1,50):\n",
        "  errs[str(k)] = get_cv_err_k(k)\n",
        "errs.plot(kind=\"line\")"
      ],
      "execution_count": 0,
      "outputs": [
        {
          "output_type": "execute_result",
          "data": {
            "text/plain": [
              "<matplotlib.axes._subplots.AxesSubplot at 0x7f7affae3390>"
            ]
          },
          "metadata": {
            "tags": []
          },
          "execution_count": 5
        },
        {
          "output_type": "display_data",
          "data": {
            "image/png": "[encoded data removed]",
            "text/plain": [
              "<Figure size 432x288 with 1 Axes>"
            ]
          },
          "metadata": {
            "tags": []
          }
        }
      ]
    },
    {
      "cell_type": "markdown",
      "metadata": {
        "id": "qCQdPp5uj8Af",
        "colab_type": "text"
      },
      "source": [
        "Here we have a plotted chart of k-values for 1 through 50. Picking k=3 was a poor choice it seems like. A higher k, such as one in the 20's, leads to an mse of ~1.5."
      ]
    },
    {
      "cell_type": "markdown",
      "metadata": {
        "id": "sl95y6FBlHKG",
        "colab_type": "text"
      },
      "source": [
        "Now let's take a look at different metrics and k-values in order to find the best parameters for k-nearest neighbors."
      ]
    },
    {
      "cell_type": "code",
      "metadata": {
        "id": "8DdkTF7slFB3",
        "colab_type": "code",
        "outputId": "a9bbcc80-30da-47bc-dfd3-4cdf09da57cf",
        "colab": {
          "base_uri": "https://localhost:8080/",
          "height": 221
        }
      },
      "source": [
        "def get_cv_err_k_metrics(k,metrics):\n",
        "  ct = make_column_transformer(\n",
        "      (OneHotEncoder(handle_unknown=\"ignore\"), [\"Genre\",\"Publisher\",\"Developer\"]),\n",
        "      remainder=\"passthrough\"\n",
        "  )\n",
        "\n",
        "  pipeline = make_pipeline(\n",
        "      ct,\n",
        "      KNeighborsRegressor(n_neighbors=k,metric=metrics)\n",
        "  )\n",
        "  cv_errs = -cross_val_score(pipeline,\n",
        "                             X=df_vg[[\"Genre\",\"Publisher\",\"Developer\"]],\n",
        "                             y=df_vg[\"Global_Sales\"],\n",
        "                             scoring=\"neg_mean_squared_error\",cv=4)\n",
        "  return cv_errs.mean()\n",
        "\n",
        "\n",
        "\n",
        "errs = pd.Series()\n",
        "\n",
        "for k in range(1,50):\n",
        "  for metric in [\"euclidean\",\"manhattan\",\"minkowski\"]:\n",
        "    errs[str(k) + \" \" + str(metric)] = get_cv_err_k_metrics(k,metric)\n",
        "print(errs)"
      ],
      "execution_count": 0,
      "outputs": [
        {
          "output_type": "stream",
          "text": [
            "1 euclidean     8.634740\n",
            "1 manhattan     8.634740\n",
            "1 minkowski     8.634740\n",
            "2 euclidean     6.463758\n",
            "2 manhattan     6.463758\n",
            "                  ...   \n",
            "48 manhattan    1.486143\n",
            "48 minkowski    1.486143\n",
            "49 euclidean    1.491822\n",
            "49 manhattan    1.491822\n",
            "49 minkowski    1.491822\n",
            "Length: 147, dtype: float64\n"
          ],
          "name": "stdout"
        }
      ]
    },
    {
      "cell_type": "code",
      "metadata": {
        "id": "OoXSv3CMltPs",
        "colab_type": "code",
        "outputId": "b2fad1f7-51d0-40b1-9e99-a9ba79877897",
        "colab": {
          "base_uri": "https://localhost:8080/",
          "height": 221
        }
      },
      "source": [
        "print(errs)"
      ],
      "execution_count": 0,
      "outputs": [
        {
          "output_type": "stream",
          "text": [
            "1 euclidean     8.634740\n",
            "1 manhattan     8.634740\n",
            "1 minkowski     8.634740\n",
            "2 euclidean     6.463758\n",
            "2 manhattan     6.463758\n",
            "                  ...   \n",
            "48 manhattan    1.486143\n",
            "48 minkowski    1.486143\n",
            "49 euclidean    1.491822\n",
            "49 manhattan    1.491822\n",
            "49 minkowski    1.491822\n",
            "Length: 147, dtype: float64\n"
          ],
          "name": "stdout"
        }
      ]
    },
    {
      "cell_type": "markdown",
      "metadata": {
        "id": "6Xfz-lyLnJis",
        "colab_type": "text"
      },
      "source": [
        "Looking at different metrics made no impact."
      ]
    },
    {
      "cell_type": "markdown",
      "metadata": {
        "id": "j8wLahiDm4bu",
        "colab_type": "text"
      },
      "source": [
        "Here I took a linear regression instead of a k-nearest neighbors regression. Linear appears to be a better predictor, with all MSE's around the 1.5-1.6 range."
      ]
    },
    {
      "cell_type": "code",
      "metadata": {
        "id": "6NM0rCmGmuHW",
        "colab_type": "code",
        "outputId": "f628ed21-5756-4745-f836-d05fb59b0ef6",
        "colab": {
          "base_uri": "https://localhost:8080/",
          "height": 102
        }
      },
      "source": [
        "def get_cv_err_linear(features):\n",
        "  ct = make_column_transformer(\n",
        "      (OneHotEncoder(handle_unknown=\"ignore\"), features),\n",
        "      remainder=\"passthrough\"\n",
        "  )\n",
        "\n",
        "  pipeline = make_pipeline(\n",
        "      ct,\n",
        "      StackingRegressor([\n",
        "    (\"linear\", LinearRegression()), \n",
        "    (\"knn\", KNeighborsRegressor(n_neighbors=30))],\n",
        "    final_estimator=LinearRegression()\n",
        ")\n",
        "  )\n",
        "  cv_errs = -cross_val_score(pipeline,\n",
        "                             X=df_vg[features],\n",
        "                             y=df_vg[\"Global_Sales\"],\n",
        "                             scoring=\"neg_mean_squared_error\",cv=2)\n",
        "  return cv_errs.mean()\n",
        "\n",
        "\n",
        "\n",
        "errs = pd.Series()\n",
        "for features in [[\"Genre\",\"Publisher\"],[\"Genre\",\"Developer\"],[\"Publisher\",\"Developer\"],[\"Genre\",\"Publisher\",\"Developer\"]]:\n",
        "  errs[str(features)] = get_cv_err_linear(features)\n",
        "errs"
      ],
      "execution_count": 0,
      "outputs": [
        {
          "output_type": "execute_result",
          "data": {
            "text/plain": [
              "['Genre', 'Publisher']                 2.108843\n",
              "['Genre', 'Developer']                 1.977563\n",
              "['Publisher', 'Developer']             2.217341\n",
              "['Genre', 'Publisher', 'Developer']    2.177001\n",
              "dtype: float64"
            ]
          },
          "metadata": {
            "tags": []
          },
          "execution_count": 8
        }
      ]
    },
    {
      "cell_type": "markdown",
      "metadata": {
        "id": "lFiMt2LwpPDs",
        "colab_type": "text"
      },
      "source": [
        "Tried creating a stacked model and got worse results."
      ]
    },
    {
      "cell_type": "markdown",
      "metadata": {
        "id": "HyqOsTMPqrWj",
        "colab_type": "text"
      },
      "source": [
        "Unfortunately I'm a bit saddened by the poor results. A model being off by ~1.2 million sales on average is not a good model. I think this is a case where your model is only going to be as good as your data and I didn't have enough high quality data. More games, maybe taking reviews from a more reputable source like IGN, or including the description in games may have led to a much better model."
      ]
    }
  ]
}